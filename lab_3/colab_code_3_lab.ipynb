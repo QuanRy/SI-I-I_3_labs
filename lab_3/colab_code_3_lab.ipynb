{
  "nbformat": 4,
  "nbformat_minor": 0,
  "metadata": {
    "colab": {
      "provenance": [],
      "authorship_tag": "ABX9TyNNeMP84lzL2LtvqWtQqM+A",
      "include_colab_link": true
    },
    "kernelspec": {
      "name": "ir",
      "display_name": "R"
    },
    "language_info": {
      "name": "R"
    }
  },
  "cells": [
    {
      "cell_type": "markdown",
      "metadata": {
        "id": "view-in-github",
        "colab_type": "text"
      },
      "source": [
        "<a href=\"https://colab.research.google.com/github/QuanRy/SI-I-I_3_labs/blob/main/lab_3/colab_code_3_lab.ipynb\" target=\"_parent\"><img src=\"https://colab.research.google.com/assets/colab-badge.svg\" alt=\"Open In Colab\"/></a>"
      ]
    },
    {
      "cell_type": "code",
      "execution_count": 1,
      "metadata": {
        "id": "uUINL4RUJOxE"
      },
      "outputs": [],
      "source": [
        "library(ggplot2)\n",
        "library(tidyr)\n",
        "library(RColorBrewer)"
      ]
    },
    {
      "cell_type": "code",
      "source": [
        "dataset = read.csv(\"alcohol-consumption.csv\")"
      ],
      "metadata": {
        "id": "r_w4xkC6LZpK"
      },
      "execution_count": 13,
      "outputs": []
    },
    {
      "cell_type": "code",
      "source": [
        "# смотрим на данные\n",
        "str(dataset)\n",
        "head(dataset)\n",
        "any(is.na(dataset))\n",
        "summary(dataset)"
      ],
      "metadata": {
        "colab": {
          "base_uri": "https://localhost:8080/",
          "height": 948
        },
        "id": "NbaehrXGLrja",
        "outputId": "27f125d0-0038-46aa-a2e4-fced93607e3b"
      },
      "execution_count": 14,
      "outputs": [
        {
          "output_type": "stream",
          "name": "stdout",
          "text": [
            "'data.frame':\t189 obs. of  10 variables:\n",
            " $ country               : chr  \"Estonia\" \"Lithuania\" \"Czech Republic\" \"Seychelles\" ...\n",
            " $ total_consumption     : num  16.9 15 14.3 13.8 13.4 13.4 13 13 12.9 12.7 ...\n",
            " $ recorded_consumption  : num  15.8 13.8 12.4 12.4 11.3 9.6 11.3 11.5 11.1 11.4 ...\n",
            " $ unrecorded_consumption: num  1.1 1.2 1.4 1.4 1.4 3.8 1.4 1.4 1.9 1.3 ...\n",
            " $ beer_percentage       : num  32.7 43.6 53.3 68.9 52.6 7.9 47 35.4 42.8 38.8 ...\n",
            " $ wine_percentage       : num  7.4 7.3 21.3 22.4 28.4 0.4 28 44.6 11.1 17.2 ...\n",
            " $ spirits_percentage    : num  50.3 37.1 25.4 6.3 18.9 0.6 18.8 20 40 42.9 ...\n",
            " $ other_percentage      : num  9.6 12.1 0 2.5 0 91.1 6.2 0 6.1 1.2 ...\n",
            " $ X2020_projection      : num  11.5 14.4 11.2 10.4 12.8 13 13.5 12.6 14 13 ...\n",
            " $ X2025_projection      : num  11.9 13.9 11.4 10.6 12.6 12.5 13.9 12.4 15.1 13.4 ...\n"
          ]
        },
        {
          "output_type": "display_data",
          "data": {
            "text/html": [
              "<table class=\"dataframe\">\n",
              "<caption>A data.frame: 6 × 10</caption>\n",
              "<thead>\n",
              "\t<tr><th></th><th scope=col>country</th><th scope=col>total_consumption</th><th scope=col>recorded_consumption</th><th scope=col>unrecorded_consumption</th><th scope=col>beer_percentage</th><th scope=col>wine_percentage</th><th scope=col>spirits_percentage</th><th scope=col>other_percentage</th><th scope=col>X2020_projection</th><th scope=col>X2025_projection</th></tr>\n",
              "\t<tr><th></th><th scope=col>&lt;chr&gt;</th><th scope=col>&lt;dbl&gt;</th><th scope=col>&lt;dbl&gt;</th><th scope=col>&lt;dbl&gt;</th><th scope=col>&lt;dbl&gt;</th><th scope=col>&lt;dbl&gt;</th><th scope=col>&lt;dbl&gt;</th><th scope=col>&lt;dbl&gt;</th><th scope=col>&lt;dbl&gt;</th><th scope=col>&lt;dbl&gt;</th></tr>\n",
              "</thead>\n",
              "<tbody>\n",
              "\t<tr><th scope=row>1</th><td>Estonia       </td><td>16.9</td><td>15.8</td><td>1.1</td><td>32.7</td><td> 7.4</td><td>50.3</td><td> 9.6</td><td>11.5</td><td>11.9</td></tr>\n",
              "\t<tr><th scope=row>2</th><td>Lithuania     </td><td>15.0</td><td>13.8</td><td>1.2</td><td>43.6</td><td> 7.3</td><td>37.1</td><td>12.1</td><td>14.4</td><td>13.9</td></tr>\n",
              "\t<tr><th scope=row>3</th><td>Czech Republic</td><td>14.3</td><td>12.4</td><td>1.4</td><td>53.3</td><td>21.3</td><td>25.4</td><td> 0.0</td><td>11.2</td><td>11.4</td></tr>\n",
              "\t<tr><th scope=row>4</th><td>Seychelles    </td><td>13.8</td><td>12.4</td><td>1.4</td><td>68.9</td><td>22.4</td><td> 6.3</td><td> 2.5</td><td>10.4</td><td>10.6</td></tr>\n",
              "\t<tr><th scope=row>5</th><td>Germany       </td><td>13.4</td><td>11.3</td><td>1.4</td><td>52.6</td><td>28.4</td><td>18.9</td><td> 0.0</td><td>12.8</td><td>12.6</td></tr>\n",
              "\t<tr><th scope=row>6</th><td>Nigeria       </td><td>13.4</td><td> 9.6</td><td>3.8</td><td> 7.9</td><td> 0.4</td><td> 0.6</td><td>91.1</td><td>13.0</td><td>12.5</td></tr>\n",
              "</tbody>\n",
              "</table>\n"
            ],
            "text/markdown": "\nA data.frame: 6 × 10\n\n| <!--/--> | country &lt;chr&gt; | total_consumption &lt;dbl&gt; | recorded_consumption &lt;dbl&gt; | unrecorded_consumption &lt;dbl&gt; | beer_percentage &lt;dbl&gt; | wine_percentage &lt;dbl&gt; | spirits_percentage &lt;dbl&gt; | other_percentage &lt;dbl&gt; | X2020_projection &lt;dbl&gt; | X2025_projection &lt;dbl&gt; |\n|---|---|---|---|---|---|---|---|---|---|---|\n| 1 | Estonia        | 16.9 | 15.8 | 1.1 | 32.7 |  7.4 | 50.3 |  9.6 | 11.5 | 11.9 |\n| 2 | Lithuania      | 15.0 | 13.8 | 1.2 | 43.6 |  7.3 | 37.1 | 12.1 | 14.4 | 13.9 |\n| 3 | Czech Republic | 14.3 | 12.4 | 1.4 | 53.3 | 21.3 | 25.4 |  0.0 | 11.2 | 11.4 |\n| 4 | Seychelles     | 13.8 | 12.4 | 1.4 | 68.9 | 22.4 |  6.3 |  2.5 | 10.4 | 10.6 |\n| 5 | Germany        | 13.4 | 11.3 | 1.4 | 52.6 | 28.4 | 18.9 |  0.0 | 12.8 | 12.6 |\n| 6 | Nigeria        | 13.4 |  9.6 | 3.8 |  7.9 |  0.4 |  0.6 | 91.1 | 13.0 | 12.5 |\n\n",
            "text/latex": "A data.frame: 6 × 10\n\\begin{tabular}{r|llllllllll}\n  & country & total\\_consumption & recorded\\_consumption & unrecorded\\_consumption & beer\\_percentage & wine\\_percentage & spirits\\_percentage & other\\_percentage & X2020\\_projection & X2025\\_projection\\\\\n  & <chr> & <dbl> & <dbl> & <dbl> & <dbl> & <dbl> & <dbl> & <dbl> & <dbl> & <dbl>\\\\\n\\hline\n\t1 & Estonia        & 16.9 & 15.8 & 1.1 & 32.7 &  7.4 & 50.3 &  9.6 & 11.5 & 11.9\\\\\n\t2 & Lithuania      & 15.0 & 13.8 & 1.2 & 43.6 &  7.3 & 37.1 & 12.1 & 14.4 & 13.9\\\\\n\t3 & Czech Republic & 14.3 & 12.4 & 1.4 & 53.3 & 21.3 & 25.4 &  0.0 & 11.2 & 11.4\\\\\n\t4 & Seychelles     & 13.8 & 12.4 & 1.4 & 68.9 & 22.4 &  6.3 &  2.5 & 10.4 & 10.6\\\\\n\t5 & Germany        & 13.4 & 11.3 & 1.4 & 52.6 & 28.4 & 18.9 &  0.0 & 12.8 & 12.6\\\\\n\t6 & Nigeria        & 13.4 &  9.6 & 3.8 &  7.9 &  0.4 &  0.6 & 91.1 & 13.0 & 12.5\\\\\n\\end{tabular}\n",
            "text/plain": [
              "  country        total_consumption recorded_consumption unrecorded_consumption\n",
              "1 Estonia        16.9              15.8                 1.1                   \n",
              "2 Lithuania      15.0              13.8                 1.2                   \n",
              "3 Czech Republic 14.3              12.4                 1.4                   \n",
              "4 Seychelles     13.8              12.4                 1.4                   \n",
              "5 Germany        13.4              11.3                 1.4                   \n",
              "6 Nigeria        13.4               9.6                 3.8                   \n",
              "  beer_percentage wine_percentage spirits_percentage other_percentage\n",
              "1 32.7             7.4            50.3                9.6            \n",
              "2 43.6             7.3            37.1               12.1            \n",
              "3 53.3            21.3            25.4                0.0            \n",
              "4 68.9            22.4             6.3                2.5            \n",
              "5 52.6            28.4            18.9                0.0            \n",
              "6  7.9             0.4             0.6               91.1            \n",
              "  X2020_projection X2025_projection\n",
              "1 11.5             11.9            \n",
              "2 14.4             13.9            \n",
              "3 11.2             11.4            \n",
              "4 10.4             10.6            \n",
              "5 12.8             12.6            \n",
              "6 13.0             12.5            "
            ]
          },
          "metadata": {}
        },
        {
          "output_type": "display_data",
          "data": {
            "text/html": [
              "TRUE"
            ],
            "text/markdown": "TRUE",
            "text/latex": "TRUE",
            "text/plain": [
              "[1] TRUE"
            ]
          },
          "metadata": {}
        },
        {
          "output_type": "display_data",
          "data": {
            "text/plain": [
              "   country          total_consumption recorded_consumption\n",
              " Length:189         Min.   : 0.000    Min.   : 0.000      \n",
              " Class :character   1st Qu.: 2.400    1st Qu.: 1.400      \n",
              " Mode  :character   Median : 6.300    Median : 4.500      \n",
              "                    Mean   : 6.184    Mean   : 4.923      \n",
              "                    3rd Qu.: 9.400    3rd Qu.: 7.900      \n",
              "                    Max.   :16.900    Max.   :15.800      \n",
              "                                                          \n",
              " unrecorded_consumption beer_percentage  wine_percentage spirits_percentage\n",
              " Min.   :0.00           Min.   :  0.60   Min.   : 0.00   Min.   : 0.00     \n",
              " 1st Qu.:0.80           1st Qu.: 28.30   1st Qu.: 2.15   1st Qu.:10.85     \n",
              " Median :1.30           Median : 39.90   Median : 8.50   Median :25.40     \n",
              " Mean   :1.38           Mean   : 43.48   Mean   :16.31   Mean   :29.39     \n",
              " 3rd Qu.:1.80           3rd Qu.: 56.90   3rd Qu.:27.95   3rd Qu.:43.75     \n",
              " Max.   :5.30           Max.   :100.00   Max.   :84.70   Max.   :97.30     \n",
              "                        NA's   :10       NA's   :10      NA's   :10        \n",
              " other_percentage X2020_projection X2025_projection\n",
              " Min.   : 0.00    Min.   : 0.000   Min.   : 0.000  \n",
              " 1st Qu.: 0.00    1st Qu.: 2.500   1st Qu.: 2.700  \n",
              " Median : 0.70    Median : 6.300   Median : 6.600  \n",
              " Mean   :10.81    Mean   : 6.253   Mean   : 6.452  \n",
              " 3rd Qu.: 4.65    3rd Qu.: 9.700   3rd Qu.:10.200  \n",
              " Max.   :94.90    Max.   :16.200   Max.   :18.300  \n",
              " NA's   :10                                        "
            ]
          },
          "metadata": {}
        }
      ]
    },
    {
      "cell_type": "code",
      "source": [
        "hist(dataset$total_consumption)"
      ],
      "metadata": {
        "colab": {
          "base_uri": "https://localhost:8080/",
          "height": 437
        },
        "id": "iV5MVQcTL8YB",
        "outputId": "bcf6618a-c457-418a-85f5-7c0596457e75"
      },
      "execution_count": 15,
      "outputs": [
        {
          "output_type": "display_data",
          "data": {
            "text/plain": [
              "Plot with title “Histogram of dataset$total_consumption”"
            ],
            "image/png": "[encoded data removed]"
          },
          "metadata": {
            "image/png": {
              "width": 420,
              "height": 420
            }
          }
        }
      ]
    },
    {
      "cell_type": "code",
      "source": [
        "# предобработка: уберем пропуски в данных; удалим нецелевые признаки; \n",
        "df0 = data.frame(dataset)\n",
        "df0 <- na.omit(df0)\n",
        "\n",
        "df = subset(df0, select = -c(country ))\n",
        "\n",
        "any(is.na(df))\n",
        "nrow(df)"
      ],
      "metadata": {
        "colab": {
          "base_uri": "https://localhost:8080/",
          "height": 52
        },
        "id": "61m5IUMVPpQ1",
        "outputId": "0798acb9-69b8-4c5d-ff76-b083ab69ed22"
      },
      "execution_count": 16,
      "outputs": [
        {
          "output_type": "display_data",
          "data": {
            "text/html": [
              "FALSE"
            ],
            "text/markdown": "FALSE",
            "text/latex": "FALSE",
            "text/plain": [
              "[1] FALSE"
            ]
          },
          "metadata": {}
        },
        {
          "output_type": "display_data",
          "data": {
            "text/html": [
              "179"
            ],
            "text/markdown": "179",
            "text/latex": "179",
            "text/plain": [
              "[1] 179"
            ]
          },
          "metadata": {}
        }
      ]
    },
    {
      "cell_type": "code",
      "source": [
        "# нормализуем данные\n",
        "df_scaled <- data.frame(scale(df))\n",
        "\n",
        "head(df_scaled)\n",
        "nrow(df_scaled)"
      ],
      "metadata": {
        "colab": {
          "base_uri": "https://localhost:8080/",
          "height": 304
        },
        "id": "go2S4C9iQPk5",
        "outputId": "58370f9f-ce77-4dd5-df52-9e12154e7ee5"
      },
      "execution_count": 17,
      "outputs": [
        {
          "output_type": "display_data",
          "data": {
            "text/html": [
              "<table class=\"dataframe\">\n",
              "<caption>A data.frame: 6 × 9</caption>\n",
              "<thead>\n",
              "\t<tr><th></th><th scope=col>total_consumption</th><th scope=col>recorded_consumption</th><th scope=col>unrecorded_consumption</th><th scope=col>beer_percentage</th><th scope=col>wine_percentage</th><th scope=col>spirits_percentage</th><th scope=col>other_percentage</th><th scope=col>X2020_projection</th><th scope=col>X2025_projection</th></tr>\n",
              "\t<tr><th></th><th scope=col>&lt;dbl&gt;</th><th scope=col>&lt;dbl&gt;</th><th scope=col>&lt;dbl&gt;</th><th scope=col>&lt;dbl&gt;</th><th scope=col>&lt;dbl&gt;</th><th scope=col>&lt;dbl&gt;</th><th scope=col>&lt;dbl&gt;</th><th scope=col>&lt;dbl&gt;</th><th scope=col>&lt;dbl&gt;</th></tr>\n",
              "</thead>\n",
              "<tbody>\n",
              "\t<tr><th scope=row>1</th><td>2.607551</td><td>2.873238</td><td>-0.39688514</td><td>-0.486937687</td><td>-0.4914568</td><td> 0.8700850</td><td>-0.05248298</td><td>1.2438113</td><td>1.2702204</td></tr>\n",
              "\t<tr><th scope=row>2</th><td>2.130403</td><td>2.331232</td><td>-0.28174342</td><td> 0.005221514</td><td>-0.4969746</td><td> 0.3207045</td><td> 0.05614853</td><td>1.9788551</td><td>1.7685644</td></tr>\n",
              "\t<tr><th scope=row>3</th><td>1.954611</td><td>1.951828</td><td>-0.05145999</td><td> 0.443198050</td><td> 0.2755216</td><td>-0.1662464</td><td>-0.46962798</td><td>1.1677723</td><td>1.1456344</td></tr>\n",
              "\t<tr><th scope=row>4</th><td>1.829046</td><td>1.951828</td><td>-0.05145999</td><td> 1.147572687</td><td> 0.3362177</td><td>-0.9611834</td><td>-0.36099647</td><td>0.9650016</td><td>0.9462968</td></tr>\n",
              "\t<tr><th scope=row>5</th><td>1.728594</td><td>1.653724</td><td>-0.05145999</td><td> 0.411591496</td><td> 0.6672875</td><td>-0.4367747</td><td>-0.46962798</td><td>1.5733137</td><td>1.4446408</td></tr>\n",
              "\t<tr><th scope=row>6</th><td>1.728594</td><td>1.193019</td><td> 2.71194124</td><td>-1.606712750</td><td>-0.8777048</td><td>-1.1984159</td><td> 3.48890427</td><td>1.6240064</td><td>1.4197236</td></tr>\n",
              "</tbody>\n",
              "</table>\n"
            ],
            "text/markdown": "\nA data.frame: 6 × 9\n\n| <!--/--> | total_consumption &lt;dbl&gt; | recorded_consumption &lt;dbl&gt; | unrecorded_consumption &lt;dbl&gt; | beer_percentage &lt;dbl&gt; | wine_percentage &lt;dbl&gt; | spirits_percentage &lt;dbl&gt; | other_percentage &lt;dbl&gt; | X2020_projection &lt;dbl&gt; | X2025_projection &lt;dbl&gt; |\n|---|---|---|---|---|---|---|---|---|---|\n| 1 | 2.607551 | 2.873238 | -0.39688514 | -0.486937687 | -0.4914568 |  0.8700850 | -0.05248298 | 1.2438113 | 1.2702204 |\n| 2 | 2.130403 | 2.331232 | -0.28174342 |  0.005221514 | -0.4969746 |  0.3207045 |  0.05614853 | 1.9788551 | 1.7685644 |\n| 3 | 1.954611 | 1.951828 | -0.05145999 |  0.443198050 |  0.2755216 | -0.1662464 | -0.46962798 | 1.1677723 | 1.1456344 |\n| 4 | 1.829046 | 1.951828 | -0.05145999 |  1.147572687 |  0.3362177 | -0.9611834 | -0.36099647 | 0.9650016 | 0.9462968 |\n| 5 | 1.728594 | 1.653724 | -0.05145999 |  0.411591496 |  0.6672875 | -0.4367747 | -0.46962798 | 1.5733137 | 1.4446408 |\n| 6 | 1.728594 | 1.193019 |  2.71194124 | -1.606712750 | -0.8777048 | -1.1984159 |  3.48890427 | 1.6240064 | 1.4197236 |\n\n",
            "text/latex": "A data.frame: 6 × 9\n\\begin{tabular}{r|lllllllll}\n  & total\\_consumption & recorded\\_consumption & unrecorded\\_consumption & beer\\_percentage & wine\\_percentage & spirits\\_percentage & other\\_percentage & X2020\\_projection & X2025\\_projection\\\\\n  & <dbl> & <dbl> & <dbl> & <dbl> & <dbl> & <dbl> & <dbl> & <dbl> & <dbl>\\\\\n\\hline\n\t1 & 2.607551 & 2.873238 & -0.39688514 & -0.486937687 & -0.4914568 &  0.8700850 & -0.05248298 & 1.2438113 & 1.2702204\\\\\n\t2 & 2.130403 & 2.331232 & -0.28174342 &  0.005221514 & -0.4969746 &  0.3207045 &  0.05614853 & 1.9788551 & 1.7685644\\\\\n\t3 & 1.954611 & 1.951828 & -0.05145999 &  0.443198050 &  0.2755216 & -0.1662464 & -0.46962798 & 1.1677723 & 1.1456344\\\\\n\t4 & 1.829046 & 1.951828 & -0.05145999 &  1.147572687 &  0.3362177 & -0.9611834 & -0.36099647 & 0.9650016 & 0.9462968\\\\\n\t5 & 1.728594 & 1.653724 & -0.05145999 &  0.411591496 &  0.6672875 & -0.4367747 & -0.46962798 & 1.5733137 & 1.4446408\\\\\n\t6 & 1.728594 & 1.193019 &  2.71194124 & -1.606712750 & -0.8777048 & -1.1984159 &  3.48890427 & 1.6240064 & 1.4197236\\\\\n\\end{tabular}\n",
            "text/plain": [
              "  total_consumption recorded_consumption unrecorded_consumption beer_percentage\n",
              "1 2.607551          2.873238             -0.39688514            -0.486937687   \n",
              "2 2.130403          2.331232             -0.28174342             0.005221514   \n",
              "3 1.954611          1.951828             -0.05145999             0.443198050   \n",
              "4 1.829046          1.951828             -0.05145999             1.147572687   \n",
              "5 1.728594          1.653724             -0.05145999             0.411591496   \n",
              "6 1.728594          1.193019              2.71194124            -1.606712750   \n",
              "  wine_percentage spirits_percentage other_percentage X2020_projection\n",
              "1 -0.4914568       0.8700850         -0.05248298      1.2438113       \n",
              "2 -0.4969746       0.3207045          0.05614853      1.9788551       \n",
              "3  0.2755216      -0.1662464         -0.46962798      1.1677723       \n",
              "4  0.3362177      -0.9611834         -0.36099647      0.9650016       \n",
              "5  0.6672875      -0.4367747         -0.46962798      1.5733137       \n",
              "6 -0.8777048      -1.1984159          3.48890427      1.6240064       \n",
              "  X2025_projection\n",
              "1 1.2702204       \n",
              "2 1.7685644       \n",
              "3 1.1456344       \n",
              "4 0.9462968       \n",
              "5 1.4446408       \n",
              "6 1.4197236       "
            ]
          },
          "metadata": {}
        },
        {
          "output_type": "display_data",
          "data": {
            "text/html": [
              "179"
            ],
            "text/markdown": "179",
            "text/latex": "179",
            "text/plain": [
              "[1] 179"
            ]
          },
          "metadata": {}
        }
      ]
    },
    {
      "cell_type": "code",
      "source": [
        "set.seed(42)\n",
        "\n",
        "# функция запускает алгоритм k-mean и сохраняет сумму квадратов расстояния в кластерах\n",
        "kmean_withinss <- function(dataset, k) {\n",
        "    cluster <- kmeans(dataset, k)\n",
        "    return (cluster$tot.withinss)\n",
        "}\n",
        "\n",
        "# Set maximum cluster \n",
        "max_k <- 10 \n",
        "# Run algorithm over a range of k \n",
        "wss <- sapply(2:max_k, kmean_withinss, dataset = df_scaled)\n",
        "\n",
        "# Create a data frame to plot the graph\n",
        "elbow <-data.frame(2:max_k, wss)\n",
        "\n",
        "# Plot the graph with gglop\n",
        "ggplot(elbow, aes(x = X2.max_k, y = wss)) +\n",
        "    geom_point() +\n",
        "    geom_line() +\n",
        "    scale_x_continuous(breaks = seq(1, max_k, by = 1))"
      ],
      "metadata": {
        "colab": {
          "base_uri": "https://localhost:8080/",
          "height": 437
        },
        "id": "arcAGGe5QTDL",
        "outputId": "95c6da3a-f4f2-4e13-c377-3b1d10db80ee"
      },
      "execution_count": 18,
      "outputs": [
        {
          "output_type": "display_data",
          "data": {
            "text/plain": [
              "plot without title"
            ],
            "image/png": "[encoded data removed]"
          },
          "metadata": {
            "image/png": {
              "width": 420,
              "height": 420
            }
          }
        }
      ]
    },
    {
      "cell_type": "code",
      "source": [
        "optimal_k <- 3\n",
        "\n",
        "# create clustering model\n",
        "clust <- kmeans(df_scaled, optimal_k)"
      ],
      "metadata": {
        "id": "JscZFFNiQb81"
      },
      "execution_count": 19,
      "outputs": []
    },
    {
      "cell_type": "code",
      "source": [
        "# информация о кластерах\n",
        "# clust$cluster\n",
        "clust$centers\n",
        "clust$size"
      ],
      "metadata": {
        "colab": {
          "base_uri": "https://localhost:8080/",
          "height": 178
        },
        "id": "a8A-WQ1AQeMS",
        "outputId": "9b8db96d-2261-4001-919f-a7765f3c0c2e"
      },
      "execution_count": 20,
      "outputs": [
        {
          "output_type": "display_data",
          "data": {
            "text/html": [
              "<table class=\"dataframe\">\n",
              "<caption>A matrix: 3 × 9 of type dbl</caption>\n",
              "<thead>\n",
              "\t<tr><th></th><th scope=col>total_consumption</th><th scope=col>recorded_consumption</th><th scope=col>unrecorded_consumption</th><th scope=col>beer_percentage</th><th scope=col>wine_percentage</th><th scope=col>spirits_percentage</th><th scope=col>other_percentage</th><th scope=col>X2020_projection</th><th scope=col>X2025_projection</th></tr>\n",
              "</thead>\n",
              "<tbody>\n",
              "\t<tr><th scope=row>1</th><td>-1.0091307</td><td>-0.9651117</td><td>-0.60340917</td><td> 0.44033124</td><td>-0.1547816</td><td>-0.4455611</td><td> 0.16346957</td><td>-0.9995407</td><td>-1.0308633</td></tr>\n",
              "\t<tr><th scope=row>2</th><td>-0.3361724</td><td>-0.3457702</td><td> 0.05648537</td><td>-0.73908462</td><td>-0.6461284</td><td> 1.5898463</td><td>-0.44084063</td><td>-0.3696415</td><td>-0.2660807</td></tr>\n",
              "\t<tr><th scope=row>3</th><td> 0.8849137</td><td> 0.8555558</td><td> 0.43103864</td><td>-0.04869239</td><td> 0.3622303</td><td>-0.2714849</td><td> 0.04533711</td><td> 0.8904713</td><td> 0.8745116</td></tr>\n",
              "</tbody>\n",
              "</table>\n"
            ],
            "text/markdown": "\nA matrix: 3 × 9 of type dbl\n\n| <!--/--> | total_consumption | recorded_consumption | unrecorded_consumption | beer_percentage | wine_percentage | spirits_percentage | other_percentage | X2020_projection | X2025_projection |\n|---|---|---|---|---|---|---|---|---|---|\n| 1 | -1.0091307 | -0.9651117 | -0.60340917 |  0.44033124 | -0.1547816 | -0.4455611 |  0.16346957 | -0.9995407 | -1.0308633 |\n| 2 | -0.3361724 | -0.3457702 |  0.05648537 | -0.73908462 | -0.6461284 |  1.5898463 | -0.44084063 | -0.3696415 | -0.2660807 |\n| 3 |  0.8849137 |  0.8555558 |  0.43103864 | -0.04869239 |  0.3622303 | -0.2714849 |  0.04533711 |  0.8904713 |  0.8745116 |\n\n",
            "text/latex": "A matrix: 3 × 9 of type dbl\n\\begin{tabular}{r|lllllllll}\n  & total\\_consumption & recorded\\_consumption & unrecorded\\_consumption & beer\\_percentage & wine\\_percentage & spirits\\_percentage & other\\_percentage & X2020\\_projection & X2025\\_projection\\\\\n\\hline\n\t1 & -1.0091307 & -0.9651117 & -0.60340917 &  0.44033124 & -0.1547816 & -0.4455611 &  0.16346957 & -0.9995407 & -1.0308633\\\\\n\t2 & -0.3361724 & -0.3457702 &  0.05648537 & -0.73908462 & -0.6461284 &  1.5898463 & -0.44084063 & -0.3696415 & -0.2660807\\\\\n\t3 &  0.8849137 &  0.8555558 &  0.43103864 & -0.04869239 &  0.3622303 & -0.2714849 &  0.04533711 &  0.8904713 &  0.8745116\\\\\n\\end{tabular}\n",
            "text/plain": [
              "  total_consumption recorded_consumption unrecorded_consumption beer_percentage\n",
              "1 -1.0091307        -0.9651117           -0.60340917             0.44033124    \n",
              "2 -0.3361724        -0.3457702            0.05648537            -0.73908462    \n",
              "3  0.8849137         0.8555558            0.43103864            -0.04869239    \n",
              "  wine_percentage spirits_percentage other_percentage X2020_projection\n",
              "1 -0.1547816      -0.4455611          0.16346957      -0.9995407      \n",
              "2 -0.6461284       1.5898463         -0.44084063      -0.3696415      \n",
              "3  0.3622303      -0.2714849          0.04533711       0.8904713      \n",
              "  X2025_projection\n",
              "1 -1.0308633      \n",
              "2 -0.2660807      \n",
              "3  0.8745116      "
            ]
          },
          "metadata": {}
        },
        {
          "output_type": "display_data",
          "data": {
            "text/html": [
              "<style>\n",
              ".list-inline {list-style: none; margin:0; padding: 0}\n",
              ".list-inline>li {display: inline-block}\n",
              ".list-inline>li:not(:last-child)::after {content: \"\\00b7\"; padding: 0 .5ex}\n",
              "</style>\n",
              "<ol class=list-inline><li>63</li><li>32</li><li>84</li></ol>\n"
            ],
            "text/markdown": "1. 63\n2. 32\n3. 84\n\n\n",
            "text/latex": "\\begin{enumerate*}\n\\item 63\n\\item 32\n\\item 84\n\\end{enumerate*}\n",
            "text/plain": [
              "[1] 63 32 84"
            ]
          },
          "metadata": {}
        }
      ]
    },
    {
      "cell_type": "code",
      "source": [
        "# присвоим метки кластеров исходному набору данных\n",
        "df$Cluster <- clust$cluster\n",
        "df$Cluster.Label <- as.character(clust$cluster)\n",
        "\n",
        "df_scaled$Cluster <- clust$cluster\n",
        "df_scaled$Cluster.Label <- as.character(clust$cluster)\n",
        "\n",
        "head(df)"
      ],
      "metadata": {
        "colab": {
          "base_uri": "https://localhost:8080/",
          "height": 306
        },
        "id": "VIFTudRwQgjc",
        "outputId": "0155989c-b5ec-4fc6-a292-7fa2a5c3f6ff"
      },
      "execution_count": 21,
      "outputs": [
        {
          "output_type": "display_data",
          "data": {
            "text/html": [
              "<table class=\"dataframe\">\n",
              "<caption>A data.frame: 6 × 11</caption>\n",
              "<thead>\n",
              "\t<tr><th></th><th scope=col>total_consumption</th><th scope=col>recorded_consumption</th><th scope=col>unrecorded_consumption</th><th scope=col>beer_percentage</th><th scope=col>wine_percentage</th><th scope=col>spirits_percentage</th><th scope=col>other_percentage</th><th scope=col>X2020_projection</th><th scope=col>X2025_projection</th><th scope=col>Cluster</th><th scope=col>Cluster.Label</th></tr>\n",
              "\t<tr><th></th><th scope=col>&lt;dbl&gt;</th><th scope=col>&lt;dbl&gt;</th><th scope=col>&lt;dbl&gt;</th><th scope=col>&lt;dbl&gt;</th><th scope=col>&lt;dbl&gt;</th><th scope=col>&lt;dbl&gt;</th><th scope=col>&lt;dbl&gt;</th><th scope=col>&lt;dbl&gt;</th><th scope=col>&lt;dbl&gt;</th><th scope=col>&lt;int&gt;</th><th scope=col>&lt;chr&gt;</th></tr>\n",
              "</thead>\n",
              "<tbody>\n",
              "\t<tr><th scope=row>1</th><td>16.9</td><td>15.8</td><td>1.1</td><td>32.7</td><td> 7.4</td><td>50.3</td><td> 9.6</td><td>11.5</td><td>11.9</td><td>3</td><td>3</td></tr>\n",
              "\t<tr><th scope=row>2</th><td>15.0</td><td>13.8</td><td>1.2</td><td>43.6</td><td> 7.3</td><td>37.1</td><td>12.1</td><td>14.4</td><td>13.9</td><td>3</td><td>3</td></tr>\n",
              "\t<tr><th scope=row>3</th><td>14.3</td><td>12.4</td><td>1.4</td><td>53.3</td><td>21.3</td><td>25.4</td><td> 0.0</td><td>11.2</td><td>11.4</td><td>3</td><td>3</td></tr>\n",
              "\t<tr><th scope=row>4</th><td>13.8</td><td>12.4</td><td>1.4</td><td>68.9</td><td>22.4</td><td> 6.3</td><td> 2.5</td><td>10.4</td><td>10.6</td><td>3</td><td>3</td></tr>\n",
              "\t<tr><th scope=row>5</th><td>13.4</td><td>11.3</td><td>1.4</td><td>52.6</td><td>28.4</td><td>18.9</td><td> 0.0</td><td>12.8</td><td>12.6</td><td>3</td><td>3</td></tr>\n",
              "\t<tr><th scope=row>6</th><td>13.4</td><td> 9.6</td><td>3.8</td><td> 7.9</td><td> 0.4</td><td> 0.6</td><td>91.1</td><td>13.0</td><td>12.5</td><td>3</td><td>3</td></tr>\n",
              "</tbody>\n",
              "</table>\n"
            ],
            "text/markdown": "\nA data.frame: 6 × 11\n\n| <!--/--> | total_consumption &lt;dbl&gt; | recorded_consumption &lt;dbl&gt; | unrecorded_consumption &lt;dbl&gt; | beer_percentage &lt;dbl&gt; | wine_percentage &lt;dbl&gt; | spirits_percentage &lt;dbl&gt; | other_percentage &lt;dbl&gt; | X2020_projection &lt;dbl&gt; | X2025_projection &lt;dbl&gt; | Cluster &lt;int&gt; | Cluster.Label &lt;chr&gt; |\n|---|---|---|---|---|---|---|---|---|---|---|---|\n| 1 | 16.9 | 15.8 | 1.1 | 32.7 |  7.4 | 50.3 |  9.6 | 11.5 | 11.9 | 3 | 3 |\n| 2 | 15.0 | 13.8 | 1.2 | 43.6 |  7.3 | 37.1 | 12.1 | 14.4 | 13.9 | 3 | 3 |\n| 3 | 14.3 | 12.4 | 1.4 | 53.3 | 21.3 | 25.4 |  0.0 | 11.2 | 11.4 | 3 | 3 |\n| 4 | 13.8 | 12.4 | 1.4 | 68.9 | 22.4 |  6.3 |  2.5 | 10.4 | 10.6 | 3 | 3 |\n| 5 | 13.4 | 11.3 | 1.4 | 52.6 | 28.4 | 18.9 |  0.0 | 12.8 | 12.6 | 3 | 3 |\n| 6 | 13.4 |  9.6 | 3.8 |  7.9 |  0.4 |  0.6 | 91.1 | 13.0 | 12.5 | 3 | 3 |\n\n",
            "text/latex": "A data.frame: 6 × 11\n\\begin{tabular}{r|lllllllllll}\n  & total\\_consumption & recorded\\_consumption & unrecorded\\_consumption & beer\\_percentage & wine\\_percentage & spirits\\_percentage & other\\_percentage & X2020\\_projection & X2025\\_projection & Cluster & Cluster.Label\\\\\n  & <dbl> & <dbl> & <dbl> & <dbl> & <dbl> & <dbl> & <dbl> & <dbl> & <dbl> & <int> & <chr>\\\\\n\\hline\n\t1 & 16.9 & 15.8 & 1.1 & 32.7 &  7.4 & 50.3 &  9.6 & 11.5 & 11.9 & 3 & 3\\\\\n\t2 & 15.0 & 13.8 & 1.2 & 43.6 &  7.3 & 37.1 & 12.1 & 14.4 & 13.9 & 3 & 3\\\\\n\t3 & 14.3 & 12.4 & 1.4 & 53.3 & 21.3 & 25.4 &  0.0 & 11.2 & 11.4 & 3 & 3\\\\\n\t4 & 13.8 & 12.4 & 1.4 & 68.9 & 22.4 &  6.3 &  2.5 & 10.4 & 10.6 & 3 & 3\\\\\n\t5 & 13.4 & 11.3 & 1.4 & 52.6 & 28.4 & 18.9 &  0.0 & 12.8 & 12.6 & 3 & 3\\\\\n\t6 & 13.4 &  9.6 & 3.8 &  7.9 &  0.4 &  0.6 & 91.1 & 13.0 & 12.5 & 3 & 3\\\\\n\\end{tabular}\n",
            "text/plain": [
              "  total_consumption recorded_consumption unrecorded_consumption beer_percentage\n",
              "1 16.9              15.8                 1.1                    32.7           \n",
              "2 15.0              13.8                 1.2                    43.6           \n",
              "3 14.3              12.4                 1.4                    53.3           \n",
              "4 13.8              12.4                 1.4                    68.9           \n",
              "5 13.4              11.3                 1.4                    52.6           \n",
              "6 13.4               9.6                 3.8                     7.9           \n",
              "  wine_percentage spirits_percentage other_percentage X2020_projection\n",
              "1  7.4            50.3                9.6             11.5            \n",
              "2  7.3            37.1               12.1             14.4            \n",
              "3 21.3            25.4                0.0             11.2            \n",
              "4 22.4             6.3                2.5             10.4            \n",
              "5 28.4            18.9                0.0             12.8            \n",
              "6  0.4             0.6               91.1             13.0            \n",
              "  X2025_projection Cluster Cluster.Label\n",
              "1 11.9             3       3            \n",
              "2 13.9             3       3            \n",
              "3 11.4             3       3            \n",
              "4 10.6             3       3            \n",
              "5 12.6             3       3            \n",
              "6 12.5             3       3            "
            ]
          },
          "metadata": {}
        }
      ]
    },
    {
      "cell_type": "code",
      "source": [
        "# Make plots wider \n",
        "options(repr.plot.width=15, repr.plot.height=8)"
      ],
      "metadata": {
        "id": "CcNnvq17Qku5"
      },
      "execution_count": 22,
      "outputs": []
    },
    {
      "cell_type": "code",
      "source": [
        "# Построим тепловую карту\n",
        "center <- clust$centers\n",
        "\n",
        "# Create dataset with the cluster number\n",
        "cluster <- c(1:nrow(center))\n",
        "center_df <- data.frame(cluster, center)\n",
        "\n",
        "# Reshape the data\n",
        "center_reshape <- gather(center_df, features, values, total_consumption:X2025_projection)\n",
        "head(center_reshape)"
      ],
      "metadata": {
        "colab": {
          "base_uri": "https://localhost:8080/",
          "height": 286
        },
        "id": "e_idxW6jQqnq",
        "outputId": "aa0d190d-73c6-4b4a-f60c-592c138944e3"
      },
      "execution_count": 23,
      "outputs": [
        {
          "output_type": "display_data",
          "data": {
            "text/html": [
              "<table class=\"dataframe\">\n",
              "<caption>A data.frame: 6 × 3</caption>\n",
              "<thead>\n",
              "\t<tr><th></th><th scope=col>cluster</th><th scope=col>features</th><th scope=col>values</th></tr>\n",
              "\t<tr><th></th><th scope=col>&lt;int&gt;</th><th scope=col>&lt;chr&gt;</th><th scope=col>&lt;dbl&gt;</th></tr>\n",
              "</thead>\n",
              "<tbody>\n",
              "\t<tr><th scope=row>1</th><td>1</td><td>total_consumption   </td><td>-1.0091307</td></tr>\n",
              "\t<tr><th scope=row>2</th><td>2</td><td>total_consumption   </td><td>-0.3361724</td></tr>\n",
              "\t<tr><th scope=row>3</th><td>3</td><td>total_consumption   </td><td> 0.8849137</td></tr>\n",
              "\t<tr><th scope=row>4</th><td>1</td><td>recorded_consumption</td><td>-0.9651117</td></tr>\n",
              "\t<tr><th scope=row>5</th><td>2</td><td>recorded_consumption</td><td>-0.3457702</td></tr>\n",
              "\t<tr><th scope=row>6</th><td>3</td><td>recorded_consumption</td><td> 0.8555558</td></tr>\n",
              "</tbody>\n",
              "</table>\n"
            ],
            "text/markdown": "\nA data.frame: 6 × 3\n\n| <!--/--> | cluster &lt;int&gt; | features &lt;chr&gt; | values &lt;dbl&gt; |\n|---|---|---|---|\n| 1 | 1 | total_consumption    | -1.0091307 |\n| 2 | 2 | total_consumption    | -0.3361724 |\n| 3 | 3 | total_consumption    |  0.8849137 |\n| 4 | 1 | recorded_consumption | -0.9651117 |\n| 5 | 2 | recorded_consumption | -0.3457702 |\n| 6 | 3 | recorded_consumption |  0.8555558 |\n\n",
            "text/latex": "A data.frame: 6 × 3\n\\begin{tabular}{r|lll}\n  & cluster & features & values\\\\\n  & <int> & <chr> & <dbl>\\\\\n\\hline\n\t1 & 1 & total\\_consumption    & -1.0091307\\\\\n\t2 & 2 & total\\_consumption    & -0.3361724\\\\\n\t3 & 3 & total\\_consumption    &  0.8849137\\\\\n\t4 & 1 & recorded\\_consumption & -0.9651117\\\\\n\t5 & 2 & recorded\\_consumption & -0.3457702\\\\\n\t6 & 3 & recorded\\_consumption &  0.8555558\\\\\n\\end{tabular}\n",
            "text/plain": [
              "  cluster features             values    \n",
              "1 1       total_consumption    -1.0091307\n",
              "2 2       total_consumption    -0.3361724\n",
              "3 3       total_consumption     0.8849137\n",
              "4 1       recorded_consumption -0.9651117\n",
              "5 2       recorded_consumption -0.3457702\n",
              "6 3       recorded_consumption  0.8555558"
            ]
          },
          "metadata": {}
        }
      ]
    },
    {
      "cell_type": "code",
      "source": [
        "# Create the palette\n",
        "hm.palette <-colorRampPalette(rev(brewer.pal(10, 'RdYlGn')), space='Lab')\n",
        "\n",
        "# Plot the heat map\n",
        "ggplot(data = center_reshape, aes(x = features, y = cluster, fill = values)) +\n",
        "    scale_y_continuous(breaks = seq(1, 8, by = 1)) +\n",
        "    geom_tile() +\n",
        "    coord_equal() +\n",
        "    scale_fill_gradientn(colours = hm.palette(50)) +\n",
        "    theme(aspect.ratio = 0.85)"
      ],
      "metadata": {
        "colab": {
          "base_uri": "https://localhost:8080/",
          "height": 497
        },
        "id": "h2k4n6fFRj9J",
        "outputId": "3743cdc2-06ab-4c37-d850-c4d7a2ae5912"
      },
      "execution_count": 24,
      "outputs": [
        {
          "output_type": "display_data",
          "data": {
            "text/plain": [
              "plot without title"
            ],
            "image/png": "[encoded data removed]"
          },
          "metadata": {
            "image/png": {
              "width": 900,
              "height": 480
            }
          }
        }
      ]
    },
    {
      "cell_type": "code",
      "source": [
        "# визуализация данных в разрезе возраста и дохода покупателя с центрами кластеров\n",
        "ggplot() +\n",
        "  geom_point(data = df_scaled, mapping = aes(x = recorded_consumption  , y = unrecorded_consumption, colour = Cluster.Label)) +\n",
        "    geom_point(mapping = aes_string(x = clust$centers[, \"recorded_consumption\"], \n",
        "                                  y = clust$centers[, \"unrecorded_consumption\"]),\n",
        "                                  color = \"red\", size = 4)"
      ],
      "metadata": {
        "colab": {
          "base_uri": "https://localhost:8080/",
          "height": 497
        },
        "id": "CqnC9Y_rS1U6",
        "outputId": "439eb193-9ee9-4a7c-f8ac-c294e241ca09"
      },
      "execution_count": 26,
      "outputs": [
        {
          "output_type": "display_data",
          "data": {
            "text/plain": [
              "plot without title"
            ],
            "image/png": "[encoded data removed]"
          },
          "metadata": {
            "image/png": {
              "width": 900,
              "height": 480
            }
          }
        }
      ]
    },
    {
      "cell_type": "markdown",
      "source": [
        "# Часть 2\n"
      ],
      "metadata": {
        "id": "uK98B1BSUnQf"
      }
    },
    {
      "cell_type": "code",
      "source": [
        "# libraries\n",
        "install.packages(\"naivebayes\")\n",
        "install.packages(\"psych\")\n",
        "\n",
        "library(naivebayes)\n",
        "library(dplyr)\n",
        "library(ggplot2)\n",
        "library(psych)"
      ],
      "metadata": {
        "colab": {
          "base_uri": "https://localhost:8080/"
        },
        "id": "_H-uIol9UvrV",
        "outputId": "91222724-2e7a-4345-f6e9-d35e37970c0f"
      },
      "execution_count": 27,
      "outputs": [
        {
          "output_type": "stream",
          "name": "stderr",
          "text": [
            "Installing package into ‘/usr/local/lib/R/site-library’\n",
            "(as ‘lib’ is unspecified)\n",
            "\n",
            "Installing package into ‘/usr/local/lib/R/site-library’\n",
            "(as ‘lib’ is unspecified)\n",
            "\n",
            "also installing the dependency ‘mnormt’\n",
            "\n",
            "\n",
            "naivebayes 0.9.7 loaded\n",
            "\n",
            "\n",
            "Attaching package: ‘dplyr’\n",
            "\n",
            "\n",
            "The following objects are masked from ‘package:stats’:\n",
            "\n",
            "    filter, lag\n",
            "\n",
            "\n",
            "The following objects are masked from ‘package:base’:\n",
            "\n",
            "    intersect, setdiff, setequal, union\n",
            "\n",
            "\n",
            "\n",
            "Attaching package: ‘psych’\n",
            "\n",
            "\n",
            "The following objects are masked from ‘package:ggplot2’:\n",
            "\n",
            "    %+%, alpha\n",
            "\n",
            "\n"
          ]
        }
      ]
    },
    {
      "cell_type": "code",
      "source": [
        "# считываем датасет\n",
        "getwd()\n",
        "data <- read.csv('gender_classification_v7.csv')"
      ],
      "metadata": {
        "colab": {
          "base_uri": "https://localhost:8080/",
          "height": 34
        },
        "id": "bnDdbRoRVgcK",
        "outputId": "2824e002-8e5f-4075-83a7-e60ffa9f2e35"
      },
      "execution_count": 38,
      "outputs": [
        {
          "output_type": "display_data",
          "data": {
            "text/html": [
              "'/content'"
            ],
            "text/markdown": "'/content'",
            "text/latex": "'/content'",
            "text/plain": [
              "[1] \"/content\""
            ]
          },
          "metadata": {}
        }
      ]
    },
    {
      "cell_type": "code",
      "source": [
        "# содержимое данных\n",
        "str(data)\n",
        "summary(data) "
      ],
      "metadata": {
        "colab": {
          "base_uri": "https://localhost:8080/",
          "height": 416
        },
        "id": "J3petffLWFgi",
        "outputId": "5a334b53-3757-4184-ff92-3e9aa89a7cb5"
      },
      "execution_count": 39,
      "outputs": [
        {
          "output_type": "stream",
          "name": "stdout",
          "text": [
            "'data.frame':\t5001 obs. of  8 variables:\n",
            " $ long_hair                : int  1 0 0 0 1 1 1 0 1 1 ...\n",
            " $ forehead_width_cm        : num  11.8 14 11.8 14.4 13.5 13 15.3 13 11.9 12.1 ...\n",
            " $ forehead_height_cm       : num  6.1 5.4 6.3 6.1 5.9 6.8 6.2 5.2 5.4 5.4 ...\n",
            " $ nose_wide                : int  1 0 1 0 0 1 1 0 1 0 ...\n",
            " $ nose_long                : int  0 0 1 1 0 1 1 0 0 0 ...\n",
            " $ lips_thin                : int  1 1 1 1 0 1 1 0 1 0 ...\n",
            " $ distance_nose_to_lip_long: int  1 0 1 1 0 1 0 0 1 0 ...\n",
            " $ gender                   : chr  \"Male\" \"Female\" \"Male\" \"Male\" ...\n"
          ]
        },
        {
          "output_type": "display_data",
          "data": {
            "text/plain": [
              "   long_hair      forehead_width_cm forehead_height_cm   nose_wide     \n",
              " Min.   :0.0000   Min.   :11.40     Min.   :5.100      Min.   :0.0000  \n",
              " 1st Qu.:1.0000   1st Qu.:12.20     1st Qu.:5.500      1st Qu.:0.0000  \n",
              " Median :1.0000   Median :13.10     Median :5.900      Median :0.0000  \n",
              " Mean   :0.8696   Mean   :13.18     Mean   :5.946      Mean   :0.4939  \n",
              " 3rd Qu.:1.0000   3rd Qu.:14.00     3rd Qu.:6.400      3rd Qu.:1.0000  \n",
              " Max.   :1.0000   Max.   :15.50     Max.   :7.100      Max.   :1.0000  \n",
              "   nose_long        lips_thin      distance_nose_to_lip_long    gender         \n",
              " Min.   :0.0000   Min.   :0.0000   Min.   :0.0000            Length:5001       \n",
              " 1st Qu.:0.0000   1st Qu.:0.0000   1st Qu.:0.0000            Class :character  \n",
              " Median :1.0000   Median :0.0000   Median :0.0000            Mode  :character  \n",
              " Mean   :0.5079   Mean   :0.4931   Mean   :0.4989                              \n",
              " 3rd Qu.:1.0000   3rd Qu.:1.0000   3rd Qu.:1.0000                              \n",
              " Max.   :1.0000   Max.   :1.0000   Max.   :1.0000                              "
            ]
          },
          "metadata": {}
        }
      ]
    },
    {
      "cell_type": "code",
      "source": [
        "# поля nose_long и nose_wide категориальные переменные, приведем к фактору (строка-категория)\n",
        "data$nose_wide <- as.factor(data$nose_wide)\n",
        "data$nose_long <- as.factor(data$nose_long)"
      ],
      "metadata": {
        "id": "q9V9hkiQW8qd"
      },
      "execution_count": 40,
      "outputs": []
    },
    {
      "cell_type": "code",
      "source": [
        "# разбиение выборки на обучающую и тестовую выборки в пропорции 80% к 20% соответственно\n",
        "set.seed(42)\n",
        "ind <- sample(2, nrow(data), replace=TRUE, prob=c(0.8,.2))\n",
        "train <- data[ind==1,]\n",
        "test <- data[ind==2,]"
      ],
      "metadata": {
        "id": "Yin0Zk8HXqgu"
      },
      "execution_count": 42,
      "outputs": []
    },
    {
      "cell_type": "code",
      "source": [
        "# модель Naive Bayes; admit как функция для всех остальных данных (.)\n",
        "model <- naive_bayes(nose_long ~ ., data = train,  usekernel = T)\n",
        "model"
      ],
      "metadata": {
        "colab": {
          "base_uri": "https://localhost:8080/",
          "height": 1000
        },
        "id": "hyShdIB9X3G7",
        "outputId": "d658e86d-d739-4d70-d81b-51696c8bb831"
      },
      "execution_count": 43,
      "outputs": [
        {
          "output_type": "display_data",
          "data": {
            "text/plain": [
              "\n",
              "================================== Naive Bayes ================================== \n",
              " \n",
              " Call: \n",
              "naive_bayes.formula(formula = nose_long ~ ., data = train, usekernel = T)\n",
              "\n",
              "--------------------------------------------------------------------------------- \n",
              " \n",
              "Laplace smoothing: 0\n",
              "\n",
              "--------------------------------------------------------------------------------- \n",
              " \n",
              " A priori probabilities: \n",
              "\n",
              "        0         1 \n",
              "0.4960967 0.5039033 \n",
              "\n",
              "--------------------------------------------------------------------------------- \n",
              " \n",
              " Tables: \n",
              "\n",
              "--------------------------------------------------------------------------------- \n",
              " ::: long_hair::0 (KDE)\n",
              "--------------------------------------------------------------------------------- \n",
              "\n",
              "Call:\n",
              "\tdensity.default(x = x, na.rm = TRUE)\n",
              "\n",
              "Data: x (1970 obs.);\tBandwidth 'bw' = 0.06853\n",
              "\n",
              "       x                 y           \n",
              " Min.   :-0.2056   Min.   :0.000000  \n",
              " 1st Qu.: 0.1472   1st Qu.:0.000031  \n",
              " Median : 0.5000   Median :0.069111  \n",
              " Mean   : 0.5000   Mean   :0.707017  \n",
              " 3rd Qu.: 0.8528   3rd Qu.:0.687145  \n",
              " Max.   : 1.2056   Max.   :5.002674  \n",
              "\n",
              "--------------------------------------------------------------------------------- \n",
              " ::: long_hair::1 (KDE)\n",
              "--------------------------------------------------------------------------------- \n",
              "\n",
              "Call:\n",
              "\tdensity.default(x = x, na.rm = TRUE)\n",
              "\n",
              "Data: x (2001 obs.);\tBandwidth 'bw' = 0.06564\n",
              "\n",
              "       x                 y          \n",
              " Min.   :-0.1969   Min.   :0.00000  \n",
              " 1st Qu.: 0.1515   1st Qu.:0.00001  \n",
              " Median : 0.5000   Median :0.05579  \n",
              " Mean   : 0.5000   Mean   :0.71583  \n",
              " 3rd Qu.: 0.8485   3rd Qu.:0.64346  \n",
              " Max.   : 1.1969   Max.   :5.29988  \n",
              "\n",
              "--------------------------------------------------------------------------------- \n",
              " ::: forehead_width_cm::0 (KDE)\n",
              "--------------------------------------------------------------------------------- \n",
              "\n",
              "Call:\n",
              "\tdensity.default(x = x, na.rm = TRUE)\n",
              "\n",
              "Data: x (1970 obs.);\tBandwidth 'bw' = 0.189\n",
              "\n",
              "       x               y            \n",
              " Min.   :10.83   Min.   :0.0001139  \n",
              " 1st Qu.:12.14   1st Qu.:0.0313242  \n",
              " Median :13.45   Median :0.2893926  \n",
              " Mean   :13.45   Mean   :0.1908599  \n",
              " 3rd Qu.:14.76   3rd Qu.:0.3109988  \n",
              " Max.   :16.07   Max.   :0.3578212  \n",
              "\n",
              "--------------------------------------------------------------------------------- \n",
              " ::: forehead_width_cm::1 (KDE)\n",
              "--------------------------------------------------------------------------------- \n",
              "\n",
              "Call:\n",
              "\tdensity.default(x = x, na.rm = TRUE)\n",
              "\n",
              "Data: x (2001 obs.);\tBandwidth 'bw' = 0.2304\n",
              "\n",
              "       x               y            \n",
              " Min.   :10.71   Min.   :0.0002655  \n",
              " 1st Qu.:12.08   1st Qu.:0.1185809  \n",
              " Median :13.45   Median :0.2243283  \n",
              " Mean   :13.45   Mean   :0.1822234  \n",
              " 3rd Qu.:14.82   3rd Qu.:0.2521577  \n",
              " Max.   :16.19   Max.   :0.2630415  \n",
              "\n",
              "--------------------------------------------------------------------------------- \n",
              " ::: forehead_height_cm::0 (KDE)\n",
              "--------------------------------------------------------------------------------- \n",
              "\n",
              "Call:\n",
              "\tdensity.default(x = x, na.rm = TRUE)\n",
              "\n",
              "Data: x (1970 obs.);\tBandwidth 'bw' = 0.09239\n",
              "\n",
              "       x               y           \n",
              " Min.   :4.823   Min.   :0.000501  \n",
              " 1st Qu.:5.461   1st Qu.:0.059989  \n",
              " Median :6.100   Median :0.553911  \n",
              " Mean   :6.100   Mean   :0.391064  \n",
              " 3rd Qu.:6.739   3rd Qu.:0.654736  \n",
              " Max.   :7.377   Max.   :0.663758  \n",
              "\n",
              "--------------------------------------------------------------------------------- \n",
              " ::: forehead_height_cm::1 (KDE)\n",
              "--------------------------------------------------------------------------------- \n",
              "\n",
              "Call:\n",
              "\tdensity.default(x = x, na.rm = TRUE)\n",
              "\n",
              "Data: x (2001 obs.);\tBandwidth 'bw' = 0.1156\n",
              "\n",
              "       x               y           \n",
              " Min.   :4.753   Min.   :0.001526  \n",
              " 1st Qu.:5.427   1st Qu.:0.276255  \n",
              " Median :6.100   Median :0.453065  \n",
              " Mean   :6.100   Mean   :0.370828  \n",
              " 3rd Qu.:6.773   3rd Qu.:0.509177  \n",
              " Max.   :7.447   Max.   :0.526026  \n",
              "\n",
              "--------------------------------------------------------------------------------- \n",
              " ::: nose_wide (Bernoulli) \n",
              "--------------------------------------------------------------------------------- \n",
              "         \n",
              "nose_wide         0         1\n",
              "        0 0.7893401 0.2278861\n",
              "        1 0.2106599 0.7721139\n",
              "\n",
              "--------------------------------------------------------------------------------- \n",
              " ::: lips_thin::0 (KDE)\n",
              "--------------------------------------------------------------------------------- \n",
              "\n",
              "Call:\n",
              "\tdensity.default(x = x, na.rm = TRUE)\n",
              "\n",
              "Data: x (1970 obs.);\tBandwidth 'bw' = 0.08073\n",
              "\n",
              "       x                 y           \n",
              " Min.   :-0.2422   Min.   :0.000000  \n",
              " 1st Qu.: 0.1289   1st Qu.:0.001066  \n",
              " Median : 0.5000   Median :0.138397  \n",
              " Mean   : 0.5000   Mean   :0.672159  \n",
              " 3rd Qu.: 0.8711   3rd Qu.:0.884906  \n",
              " Max.   : 1.2422   Max.   :3.890924  \n",
              "\n",
              "--------------------------------------------------------------------------------- \n",
              " ::: lips_thin::1 (KDE)\n",
              "--------------------------------------------------------------------------------- \n",
              "\n",
              "Call:\n",
              "\tdensity.default(x = x, na.rm = TRUE)\n",
              "\n",
              "Data: x (2001 obs.);\tBandwidth 'bw' = 0.08313\n",
              "\n",
              "       x                 y           \n",
              " Min.   :-0.2494   Min.   :0.000000  \n",
              " 1st Qu.: 0.1253   1st Qu.:0.001766  \n",
              " Median : 0.5000   Median :0.153824  \n",
              " Mean   : 0.5000   Mean   :0.665687  \n",
              " 3rd Qu.: 0.8747   3rd Qu.:0.932441  \n",
              " Max.   : 1.2494   Max.   :3.681330  \n",
              "\n",
              "---------------------------------------------------------------------------------\n",
              "\n",
              "# ... and 2 more tables\n",
              "\n",
              "---------------------------------------------------------------------------------\n"
            ]
          },
          "metadata": {}
        }
      ]
    },
    {
      "cell_type": "code",
      "source": [
        "#plot(model)"
      ],
      "metadata": {
        "id": "qTmXV_GSeJfz"
      },
      "execution_count": 44,
      "outputs": []
    },
    {
      "cell_type": "code",
      "source": [
        "# предсказание на тренировочно выборке\n",
        "p <- predict(model, train, type= 'prob')\n",
        "head(cbind(p, train))"
      ],
      "metadata": {
        "colab": {
          "base_uri": "https://localhost:8080/",
          "height": 321
        },
        "id": "vDJ33_aseOER",
        "outputId": "03158bbe-4f76-4a3b-e49c-888852fc87dd"
      },
      "execution_count": 45,
      "outputs": [
        {
          "output_type": "stream",
          "name": "stderr",
          "text": [
            "Warning message:\n",
            "“predict.naive_bayes(): more features in the newdata are provided as there are probability tables in the object. Calculation is performed based on features to be found in the tables.”\n"
          ]
        },
        {
          "output_type": "display_data",
          "data": {
            "text/html": [
              "<table class=\"dataframe\">\n",
              "<caption>A data.frame: 6 × 10</caption>\n",
              "<thead>\n",
              "\t<tr><th></th><th scope=col>0</th><th scope=col>1</th><th scope=col>long_hair</th><th scope=col>forehead_width_cm</th><th scope=col>forehead_height_cm</th><th scope=col>nose_wide</th><th scope=col>nose_long</th><th scope=col>lips_thin</th><th scope=col>distance_nose_to_lip_long</th><th scope=col>gender</th></tr>\n",
              "\t<tr><th></th><th scope=col>&lt;dbl&gt;</th><th scope=col>&lt;dbl&gt;</th><th scope=col>&lt;int&gt;</th><th scope=col>&lt;dbl&gt;</th><th scope=col>&lt;dbl&gt;</th><th scope=col>&lt;fct&gt;</th><th scope=col>&lt;fct&gt;</th><th scope=col>&lt;int&gt;</th><th scope=col>&lt;int&gt;</th><th scope=col>&lt;chr&gt;</th></tr>\n",
              "</thead>\n",
              "<tbody>\n",
              "\t<tr><th scope=row>3</th><td>0.0064744985</td><td>0.993525501</td><td>0</td><td>11.8</td><td>6.3</td><td>1</td><td>1</td><td>1</td><td>1</td><td>Male  </td></tr>\n",
              "\t<tr><th scope=row>5</th><td>0.9975559884</td><td>0.002444012</td><td>1</td><td>13.5</td><td>5.9</td><td>0</td><td>0</td><td>0</td><td>0</td><td>Female</td></tr>\n",
              "\t<tr><th scope=row>6</th><td>0.0005111325</td><td>0.999488868</td><td>1</td><td>13.0</td><td>6.8</td><td>1</td><td>1</td><td>1</td><td>1</td><td>Male  </td></tr>\n",
              "\t<tr><th scope=row>7</th><td>0.0074120372</td><td>0.992587963</td><td>1</td><td>15.3</td><td>6.2</td><td>1</td><td>1</td><td>1</td><td>0</td><td>Male  </td></tr>\n",
              "\t<tr><th scope=row>8</th><td>0.9978658434</td><td>0.002134157</td><td>0</td><td>13.0</td><td>5.2</td><td>0</td><td>0</td><td>0</td><td>0</td><td>Female</td></tr>\n",
              "\t<tr><th scope=row>9</th><td>0.2055206570</td><td>0.794479343</td><td>1</td><td>11.9</td><td>5.4</td><td>1</td><td>0</td><td>1</td><td>1</td><td>Female</td></tr>\n",
              "</tbody>\n",
              "</table>\n"
            ],
            "text/markdown": "\nA data.frame: 6 × 10\n\n| <!--/--> | 0 &lt;dbl&gt; | 1 &lt;dbl&gt; | long_hair &lt;int&gt; | forehead_width_cm &lt;dbl&gt; | forehead_height_cm &lt;dbl&gt; | nose_wide &lt;fct&gt; | nose_long &lt;fct&gt; | lips_thin &lt;int&gt; | distance_nose_to_lip_long &lt;int&gt; | gender &lt;chr&gt; |\n|---|---|---|---|---|---|---|---|---|---|---|\n| 3 | 0.0064744985 | 0.993525501 | 0 | 11.8 | 6.3 | 1 | 1 | 1 | 1 | Male   |\n| 5 | 0.9975559884 | 0.002444012 | 1 | 13.5 | 5.9 | 0 | 0 | 0 | 0 | Female |\n| 6 | 0.0005111325 | 0.999488868 | 1 | 13.0 | 6.8 | 1 | 1 | 1 | 1 | Male   |\n| 7 | 0.0074120372 | 0.992587963 | 1 | 15.3 | 6.2 | 1 | 1 | 1 | 0 | Male   |\n| 8 | 0.9978658434 | 0.002134157 | 0 | 13.0 | 5.2 | 0 | 0 | 0 | 0 | Female |\n| 9 | 0.2055206570 | 0.794479343 | 1 | 11.9 | 5.4 | 1 | 0 | 1 | 1 | Female |\n\n",
            "text/latex": "A data.frame: 6 × 10\n\\begin{tabular}{r|llllllllll}\n  & 0 & 1 & long\\_hair & forehead\\_width\\_cm & forehead\\_height\\_cm & nose\\_wide & nose\\_long & lips\\_thin & distance\\_nose\\_to\\_lip\\_long & gender\\\\\n  & <dbl> & <dbl> & <int> & <dbl> & <dbl> & <fct> & <fct> & <int> & <int> & <chr>\\\\\n\\hline\n\t3 & 0.0064744985 & 0.993525501 & 0 & 11.8 & 6.3 & 1 & 1 & 1 & 1 & Male  \\\\\n\t5 & 0.9975559884 & 0.002444012 & 1 & 13.5 & 5.9 & 0 & 0 & 0 & 0 & Female\\\\\n\t6 & 0.0005111325 & 0.999488868 & 1 & 13.0 & 6.8 & 1 & 1 & 1 & 1 & Male  \\\\\n\t7 & 0.0074120372 & 0.992587963 & 1 & 15.3 & 6.2 & 1 & 1 & 1 & 0 & Male  \\\\\n\t8 & 0.9978658434 & 0.002134157 & 0 & 13.0 & 5.2 & 0 & 0 & 0 & 0 & Female\\\\\n\t9 & 0.2055206570 & 0.794479343 & 1 & 11.9 & 5.4 & 1 & 0 & 1 & 1 & Female\\\\\n\\end{tabular}\n",
            "text/plain": [
              "  0            1           long_hair forehead_width_cm forehead_height_cm\n",
              "3 0.0064744985 0.993525501 0         11.8              6.3               \n",
              "5 0.9975559884 0.002444012 1         13.5              5.9               \n",
              "6 0.0005111325 0.999488868 1         13.0              6.8               \n",
              "7 0.0074120372 0.992587963 1         15.3              6.2               \n",
              "8 0.9978658434 0.002134157 0         13.0              5.2               \n",
              "9 0.2055206570 0.794479343 1         11.9              5.4               \n",
              "  nose_wide nose_long lips_thin distance_nose_to_lip_long gender\n",
              "3 1         1         1         1                         Male  \n",
              "5 0         0         0         0                         Female\n",
              "6 1         1         1         1                         Male  \n",
              "7 1         1         1         0                         Male  \n",
              "8 0         0         0         0                         Female\n",
              "9 1         0         1         1                         Female"
            ]
          },
          "metadata": {}
        }
      ]
    },
    {
      "cell_type": "code",
      "source": [
        "cat(\"# Misclassification error - train data:\")\n",
        "p1 <- predict(model, within(train, rm(nose_long)))\n",
        "(tab1 <- table(p1, train$nose_long))\n",
        "1 - sum(diag(tab1))/ sum(tab1)\n",
        "\n",
        "cat(\"\\n# Misclassification error - test data\")\n",
        "p2 <- predict(model, within(test, rm(nose_long)))\n",
        "(tab2 <- table(p2, test$nose_long))\n",
        "1 - sum(diag(tab2))/ sum(tab2)"
      ],
      "metadata": {
        "colab": {
          "base_uri": "https://localhost:8080/",
          "height": 243
        },
        "id": "6jJpwwiyev9z",
        "outputId": "8d7eef1b-cd44-4831-d75b-fb8696bccde6"
      },
      "execution_count": 46,
      "outputs": [
        {
          "output_type": "stream",
          "name": "stdout",
          "text": [
            "# Misclassification error - train data:"
          ]
        },
        {
          "output_type": "display_data",
          "data": {
            "text/plain": [
              "   \n",
              "p1     0    1\n",
              "  0 1717  272\n",
              "  1  253 1729"
            ]
          },
          "metadata": {}
        },
        {
          "output_type": "display_data",
          "data": {
            "text/html": [
              "0.132208511709897"
            ],
            "text/markdown": "0.132208511709897",
            "text/latex": "0.132208511709897",
            "text/plain": [
              "[1] 0.1322085"
            ]
          },
          "metadata": {}
        },
        {
          "output_type": "stream",
          "name": "stdout",
          "text": [
            "\n",
            "# Misclassification error - test data"
          ]
        },
        {
          "output_type": "display_data",
          "data": {
            "text/plain": [
              "   \n",
              "p2    0   1\n",
              "  0 441  74\n",
              "  1  50 465"
            ]
          },
          "metadata": {}
        },
        {
          "output_type": "display_data",
          "data": {
            "text/html": [
              "0.120388349514563"
            ],
            "text/markdown": "0.120388349514563",
            "text/latex": "0.120388349514563",
            "text/plain": [
              "[1] 0.1203883"
            ]
          },
          "metadata": {}
        }
      ]
    },
    {
      "cell_type": "code",
      "source": [
        "# конструируем аналогичный фактор  \n",
        "nose_wide = as.factor(1:2)\n",
        "\n",
        "# новые данные из 3х элементов\n",
        "new <- data.frame(long_hair=c(0, 1, 1), forehead_width_cm=c(12, 13, 15), forehead_height_cm=c(5, 6, 7), lips_thin=c(0, 0, 1), distance_nose_to_lip_long=c(0, 0, 1), nose_wide=nose_wide[c(0, 0, 1)])\n",
        "new$nose_wide <- as.factor(new$nose_wide)\n",
        "new$forehead_width_cm <- as.integer(new$forehead_width_cm)\n",
        "\n",
        "# метки\n",
        "p3 <- predict(model, new)\n",
        "\n",
        "cbind(nose_long=p3, new)"
      ],
      "metadata": {
        "colab": {
          "base_uri": "https://localhost:8080/",
          "height": 244
        },
        "id": "zbCQOlp2hPNk",
        "outputId": "3b153fe1-41a1-486b-b242-00e4825f5acc"
      },
      "execution_count": 60,
      "outputs": [
        {
          "output_type": "stream",
          "name": "stderr",
          "text": [
            "Warning message:\n",
            "“predict.naive_bayes(): only 6 feature(s) out of 7 defined in the naive_bayes object \"model\" are used for prediction.\n",
            "”\n"
          ]
        },
        {
          "output_type": "display_data",
          "data": {
            "text/html": [
              "<table class=\"dataframe\">\n",
              "<caption>A data.frame: 3 × 7</caption>\n",
              "<thead>\n",
              "\t<tr><th scope=col>nose_long</th><th scope=col>long_hair</th><th scope=col>forehead_width_cm</th><th scope=col>forehead_height_cm</th><th scope=col>lips_thin</th><th scope=col>distance_nose_to_lip_long</th><th scope=col>nose_wide</th></tr>\n",
              "\t<tr><th scope=col>&lt;fct&gt;</th><th scope=col>&lt;dbl&gt;</th><th scope=col>&lt;int&gt;</th><th scope=col>&lt;dbl&gt;</th><th scope=col>&lt;dbl&gt;</th><th scope=col>&lt;dbl&gt;</th><th scope=col>&lt;fct&gt;</th></tr>\n",
              "</thead>\n",
              "<tbody>\n",
              "\t<tr><td>0</td><td>0</td><td>12</td><td>5</td><td>0</td><td>0</td><td>1</td></tr>\n",
              "\t<tr><td>0</td><td>1</td><td>13</td><td>6</td><td>0</td><td>0</td><td>1</td></tr>\n",
              "\t<tr><td>1</td><td>1</td><td>15</td><td>7</td><td>1</td><td>1</td><td>1</td></tr>\n",
              "</tbody>\n",
              "</table>\n"
            ],
            "text/markdown": "\nA data.frame: 3 × 7\n\n| nose_long &lt;fct&gt; | long_hair &lt;dbl&gt; | forehead_width_cm &lt;int&gt; | forehead_height_cm &lt;dbl&gt; | lips_thin &lt;dbl&gt; | distance_nose_to_lip_long &lt;dbl&gt; | nose_wide &lt;fct&gt; |\n|---|---|---|---|---|---|---|\n| 0 | 0 | 12 | 5 | 0 | 0 | 1 |\n| 0 | 1 | 13 | 6 | 0 | 0 | 1 |\n| 1 | 1 | 15 | 7 | 1 | 1 | 1 |\n\n",
            "text/latex": "A data.frame: 3 × 7\n\\begin{tabular}{lllllll}\n nose\\_long & long\\_hair & forehead\\_width\\_cm & forehead\\_height\\_cm & lips\\_thin & distance\\_nose\\_to\\_lip\\_long & nose\\_wide\\\\\n <fct> & <dbl> & <int> & <dbl> & <dbl> & <dbl> & <fct>\\\\\n\\hline\n\t 0 & 0 & 12 & 5 & 0 & 0 & 1\\\\\n\t 0 & 1 & 13 & 6 & 0 & 0 & 1\\\\\n\t 1 & 1 & 15 & 7 & 1 & 1 & 1\\\\\n\\end{tabular}\n",
            "text/plain": [
              "  nose_long long_hair forehead_width_cm forehead_height_cm lips_thin\n",
              "1 0         0         12                5                  0        \n",
              "2 0         1         13                6                  0        \n",
              "3 1         1         15                7                  1        \n",
              "  distance_nose_to_lip_long nose_wide\n",
              "1 0                         1        \n",
              "2 0                         1        \n",
              "3 1                         1        "
            ]
          },
          "metadata": {}
        }
      ]
    }
  ]
}