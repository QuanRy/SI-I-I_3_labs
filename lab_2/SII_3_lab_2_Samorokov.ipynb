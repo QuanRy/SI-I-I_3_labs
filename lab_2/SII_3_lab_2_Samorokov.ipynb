{
  "nbformat": 4,
  "nbformat_minor": 0,
  "metadata": {
    "colab": {
      "provenance": [],
      "authorship_tag": "ABX9TyPCR62bHepVfzCsbgZDprEW",
      "include_colab_link": true
    },
    "kernelspec": {
      "name": "ir",
      "display_name": "R"
    },
    "language_info": {
      "name": "R"
    }
  },
  "cells": [
    {
      "cell_type": "markdown",
      "metadata": {
        "id": "view-in-github",
        "colab_type": "text"
      },
      "source": [
        "<a href=\"https://colab.research.google.com/github/QuanRy/SI-I-I_3_labs/blob/main/lab_2/SII_3_lab_2_Samorokov.ipynb\" target=\"_parent\"><img src=\"https://colab.research.google.com/assets/colab-badge.svg\" alt=\"Open In Colab\"/></a>"
      ]
    },
    {
      "cell_type": "code",
      "execution_count": 1,
      "metadata": {
        "id": "NJXXDPopQlRm"
      },
      "outputs": [],
      "source": [
        "# исходное число записей и последовательность для нумерации\n",
        "N <- 100\n",
        "Nrow <- 1:N"
      ]
    },
    {
      "cell_type": "code",
      "source": [
        "# формирование вектора случайно сгенерированных имен\n",
        "gen_name <- function(x) {\n",
        "  # lists of names examples\n",
        "  name_list <- c(\"Nick\", \"Joe\", \"Boba\", \"Vladimir\", \"Johnny\", \"Robin\", \"Oliver\", \"Thomas\")\n",
        "  surname_list<- c(\"Fet\", \"Burton\", \"Cartman\", \"Bezos\", \"Sarakuzov\", \"Baldwin\", \"Erickson\", \"Gilson\")\n",
        "  \n",
        "  names_len <- length(name_list)\n",
        "  \n",
        "  emp_name <- paste(\n",
        "    name_list[sample(1:names_len, 1)], \n",
        "    surname_list[sample(1:names_len, 1)]\n",
        "  )\n",
        "  emp_name\n",
        "}\n",
        "\n",
        "Name <- sapply(Nrow, gen_name)"
      ],
      "metadata": {
        "id": "fnhr0xlqUzBw"
      },
      "execution_count": 5,
      "outputs": []
    },
    {
      "cell_type": "code",
      "source": [
        "# остальные вектора\n",
        "gen_empl_year <- function(birthday) {\n",
        "  sample((birthday + 18):2006, 1)\n",
        "}\n",
        "\n",
        "BirthYear <- sample(1965:1990, N, replace=T)\n",
        "\n",
        "EmployYear <- sapply(BirthYear, gen_empl_year)\n",
        "\n",
        "Salary <- sample(10000:30000, N, replace=T)"
      ],
      "metadata": {
        "id": "0FBAptnTWzvK"
      },
      "execution_count": 6,
      "outputs": []
    },
    {
      "cell_type": "code",
      "source": [
        "# собираем датафрейм и выводим его\n",
        "df <- data.frame(\n",
        "  Nrow=Nrow,\n",
        "  Name=Name,\n",
        "  BirthYear=BirthYear,\n",
        "  EmployYear=EmployYear,\n",
        "  Salary=Salary\n",
        ")\n",
        "\n",
        "head(df, 16)"
      ],
      "metadata": {
        "colab": {
          "base_uri": "https://localhost:8080/",
          "height": 600
        },
        "id": "tGuNGvuZW4bh",
        "outputId": "5439dc73-0e6c-41ac-ae9b-97522743b5de"
      },
      "execution_count": 10,
      "outputs": [
        {
          "output_type": "display_data",
          "data": {
            "text/html": [
              "<table class=\"dataframe\">\n",
              "<caption>A data.frame: 16 × 5</caption>\n",
              "<thead>\n",
              "\t<tr><th></th><th scope=col>Nrow</th><th scope=col>Name</th><th scope=col>BirthYear</th><th scope=col>EmployYear</th><th scope=col>Salary</th></tr>\n",
              "\t<tr><th></th><th scope=col>&lt;int&gt;</th><th scope=col>&lt;chr&gt;</th><th scope=col>&lt;int&gt;</th><th scope=col>&lt;int&gt;</th><th scope=col>&lt;int&gt;</th></tr>\n",
              "</thead>\n",
              "<tbody>\n",
              "\t<tr><th scope=row>1</th><td> 1</td><td>Thomas Fet      </td><td>1986</td><td>2005</td><td>13937</td></tr>\n",
              "\t<tr><th scope=row>2</th><td> 2</td><td>Boba Burton     </td><td>1971</td><td>1990</td><td>13197</td></tr>\n",
              "\t<tr><th scope=row>3</th><td> 3</td><td>Boba Baldwin    </td><td>1983</td><td>2001</td><td>17696</td></tr>\n",
              "\t<tr><th scope=row>4</th><td> 4</td><td>Vladimir Baldwin</td><td>1988</td><td>1247</td><td>10057</td></tr>\n",
              "\t<tr><th scope=row>5</th><td> 5</td><td>Boba Erickson   </td><td>1979</td><td>2006</td><td>28743</td></tr>\n",
              "\t<tr><th scope=row>6</th><td> 6</td><td>Oliver Erickson </td><td>1970</td><td>1991</td><td>21645</td></tr>\n",
              "\t<tr><th scope=row>7</th><td> 7</td><td>Johnny Sarakuzov</td><td>1980</td><td>2002</td><td>28476</td></tr>\n",
              "\t<tr><th scope=row>8</th><td> 8</td><td>Thomas Fet      </td><td>1990</td><td>2007</td><td>14154</td></tr>\n",
              "\t<tr><th scope=row>9</th><td> 9</td><td>Joe Bezos       </td><td>1969</td><td>1993</td><td>19047</td></tr>\n",
              "\t<tr><th scope=row>10</th><td>10</td><td>Nick Cartman    </td><td>1983</td><td>2001</td><td>22009</td></tr>\n",
              "\t<tr><th scope=row>11</th><td>11</td><td>Oliver Fet      </td><td>1985</td><td>2003</td><td>23218</td></tr>\n",
              "\t<tr><th scope=row>12</th><td>12</td><td>Nick Gilson     </td><td>1980</td><td>1998</td><td>15424</td></tr>\n",
              "\t<tr><th scope=row>13</th><td>13</td><td>Johnny Cartman  </td><td>1985</td><td>2004</td><td>10141</td></tr>\n",
              "\t<tr><th scope=row>14</th><td>14</td><td>Nick Gilson     </td><td>1975</td><td>2001</td><td>20565</td></tr>\n",
              "\t<tr><th scope=row>15</th><td>15</td><td>Nick Burton     </td><td>1985</td><td>2004</td><td>24236</td></tr>\n",
              "\t<tr><th scope=row>16</th><td>16</td><td>Thomas Bezos    </td><td>1988</td><td>1148</td><td>15090</td></tr>\n",
              "</tbody>\n",
              "</table>\n"
            ],
            "text/markdown": "\nA data.frame: 16 × 5\n\n| <!--/--> | Nrow &lt;int&gt; | Name &lt;chr&gt; | BirthYear &lt;int&gt; | EmployYear &lt;int&gt; | Salary &lt;int&gt; |\n|---|---|---|---|---|---|\n| 1 |  1 | Thomas Fet       | 1986 | 2005 | 13937 |\n| 2 |  2 | Boba Burton      | 1971 | 1990 | 13197 |\n| 3 |  3 | Boba Baldwin     | 1983 | 2001 | 17696 |\n| 4 |  4 | Vladimir Baldwin | 1988 | 1247 | 10057 |\n| 5 |  5 | Boba Erickson    | 1979 | 2006 | 28743 |\n| 6 |  6 | Oliver Erickson  | 1970 | 1991 | 21645 |\n| 7 |  7 | Johnny Sarakuzov | 1980 | 2002 | 28476 |\n| 8 |  8 | Thomas Fet       | 1990 | 2007 | 14154 |\n| 9 |  9 | Joe Bezos        | 1969 | 1993 | 19047 |\n| 10 | 10 | Nick Cartman     | 1983 | 2001 | 22009 |\n| 11 | 11 | Oliver Fet       | 1985 | 2003 | 23218 |\n| 12 | 12 | Nick Gilson      | 1980 | 1998 | 15424 |\n| 13 | 13 | Johnny Cartman   | 1985 | 2004 | 10141 |\n| 14 | 14 | Nick Gilson      | 1975 | 2001 | 20565 |\n| 15 | 15 | Nick Burton      | 1985 | 2004 | 24236 |\n| 16 | 16 | Thomas Bezos     | 1988 | 1148 | 15090 |\n\n",
            "text/latex": "A data.frame: 16 × 5\n\\begin{tabular}{r|lllll}\n  & Nrow & Name & BirthYear & EmployYear & Salary\\\\\n  & <int> & <chr> & <int> & <int> & <int>\\\\\n\\hline\n\t1 &  1 & Thomas Fet       & 1986 & 2005 & 13937\\\\\n\t2 &  2 & Boba Burton      & 1971 & 1990 & 13197\\\\\n\t3 &  3 & Boba Baldwin     & 1983 & 2001 & 17696\\\\\n\t4 &  4 & Vladimir Baldwin & 1988 & 1247 & 10057\\\\\n\t5 &  5 & Boba Erickson    & 1979 & 2006 & 28743\\\\\n\t6 &  6 & Oliver Erickson  & 1970 & 1991 & 21645\\\\\n\t7 &  7 & Johnny Sarakuzov & 1980 & 2002 & 28476\\\\\n\t8 &  8 & Thomas Fet       & 1990 & 2007 & 14154\\\\\n\t9 &  9 & Joe Bezos        & 1969 & 1993 & 19047\\\\\n\t10 & 10 & Nick Cartman     & 1983 & 2001 & 22009\\\\\n\t11 & 11 & Oliver Fet       & 1985 & 2003 & 23218\\\\\n\t12 & 12 & Nick Gilson      & 1980 & 1998 & 15424\\\\\n\t13 & 13 & Johnny Cartman   & 1985 & 2004 & 10141\\\\\n\t14 & 14 & Nick Gilson      & 1975 & 2001 & 20565\\\\\n\t15 & 15 & Nick Burton      & 1985 & 2004 & 24236\\\\\n\t16 & 16 & Thomas Bezos     & 1988 & 1148 & 15090\\\\\n\\end{tabular}\n",
            "text/plain": [
              "   Nrow Name             BirthYear EmployYear Salary\n",
              "1   1   Thomas Fet       1986      2005       13937 \n",
              "2   2   Boba Burton      1971      1990       13197 \n",
              "3   3   Boba Baldwin     1983      2001       17696 \n",
              "4   4   Vladimir Baldwin 1988      1247       10057 \n",
              "5   5   Boba Erickson    1979      2006       28743 \n",
              "6   6   Oliver Erickson  1970      1991       21645 \n",
              "7   7   Johnny Sarakuzov 1980      2002       28476 \n",
              "8   8   Thomas Fet       1990      2007       14154 \n",
              "9   9   Joe Bezos        1969      1993       19047 \n",
              "10 10   Nick Cartman     1983      2001       22009 \n",
              "11 11   Oliver Fet       1985      2003       23218 \n",
              "12 12   Nick Gilson      1980      1998       15424 \n",
              "13 13   Johnny Cartman   1985      2004       10141 \n",
              "14 14   Nick Gilson      1975      2001       20565 \n",
              "15 15   Nick Burton      1985      2004       24236 \n",
              "16 16   Thomas Bezos     1988      1148       15090 "
            ]
          },
          "metadata": {}
        }
      ]
    },
    {
      "cell_type": "code",
      "source": [
        "salary_cmp_count <- nrow(df[df$Salary > 15000,])\n",
        "cat(sprintf(\"Число сотрудников с зарплатой, больше 15000: %i\", salary_cmp_count))"
      ],
      "metadata": {
        "colab": {
          "base_uri": "https://localhost:8080/"
        },
        "id": "XFDIBfDpX_kk",
        "outputId": "d2f837ca-138c-462a-98de-91893db5858e"
      },
      "execution_count": 11,
      "outputs": [
        {
          "output_type": "stream",
          "name": "stdout",
          "text": [
            "Число сотрудников с зарплатой, больше 15000: 67"
          ]
        }
      ]
    },
    {
      "cell_type": "code",
      "source": [
        "# расчет суммарного подоходного налога за все время работы в организации\n",
        "currrent_year <- as.numeric(format(Sys.Date(), format=\"%Y\"))\n",
        "df$TotalIncomeTax <- with(df, (currrent_year - EmployYear)*Salary*0.13)\n",
        "\n",
        "# финальный результат\n",
        "head(df, 16)"
      ],
      "metadata": {
        "colab": {
          "base_uri": "https://localhost:8080/",
          "height": 600
        },
        "id": "Lsij5mqDYNkH",
        "outputId": "601fea7d-dedd-481f-ce5d-b1d224715fc5"
      },
      "execution_count": 13,
      "outputs": [
        {
          "output_type": "display_data",
          "data": {
            "text/html": [
              "<table class=\"dataframe\">\n",
              "<caption>A data.frame: 16 × 6</caption>\n",
              "<thead>\n",
              "\t<tr><th></th><th scope=col>Nrow</th><th scope=col>Name</th><th scope=col>BirthYear</th><th scope=col>EmployYear</th><th scope=col>Salary</th><th scope=col>TotalIncomeTax</th></tr>\n",
              "\t<tr><th></th><th scope=col>&lt;int&gt;</th><th scope=col>&lt;chr&gt;</th><th scope=col>&lt;int&gt;</th><th scope=col>&lt;int&gt;</th><th scope=col>&lt;int&gt;</th><th scope=col>&lt;dbl&gt;</th></tr>\n",
              "</thead>\n",
              "<tbody>\n",
              "\t<tr><th scope=row>1</th><td> 1</td><td>Thomas Fet      </td><td>1986</td><td>2005</td><td>13937</td><td>  30800.77</td></tr>\n",
              "\t<tr><th scope=row>2</th><td> 2</td><td>Boba Burton     </td><td>1971</td><td>1990</td><td>13197</td><td>  54899.52</td></tr>\n",
              "\t<tr><th scope=row>3</th><td> 3</td><td>Boba Baldwin    </td><td>1983</td><td>2001</td><td>17696</td><td>  48310.08</td></tr>\n",
              "\t<tr><th scope=row>4</th><td> 4</td><td>Vladimir Baldwin</td><td>1988</td><td>1247</td><td>10057</td><td>1013242.75</td></tr>\n",
              "\t<tr><th scope=row>5</th><td> 5</td><td>Boba Erickson   </td><td>1979</td><td>2006</td><td>28743</td><td>  59785.44</td></tr>\n",
              "\t<tr><th scope=row>6</th><td> 6</td><td>Oliver Erickson </td><td>1970</td><td>1991</td><td>21645</td><td>  87229.35</td></tr>\n",
              "\t<tr><th scope=row>7</th><td> 7</td><td>Johnny Sarakuzov</td><td>1980</td><td>2002</td><td>28476</td><td>  74037.60</td></tr>\n",
              "\t<tr><th scope=row>8</th><td> 8</td><td>Thomas Fet      </td><td>1990</td><td>2007</td><td>14154</td><td>  27600.30</td></tr>\n",
              "\t<tr><th scope=row>9</th><td> 9</td><td>Joe Bezos       </td><td>1969</td><td>1993</td><td>19047</td><td>  71807.19</td></tr>\n",
              "\t<tr><th scope=row>10</th><td>10</td><td>Nick Cartman    </td><td>1983</td><td>2001</td><td>22009</td><td>  60084.57</td></tr>\n",
              "\t<tr><th scope=row>11</th><td>11</td><td>Oliver Fet      </td><td>1985</td><td>2003</td><td>23218</td><td>  57348.46</td></tr>\n",
              "\t<tr><th scope=row>12</th><td>12</td><td>Nick Gilson     </td><td>1980</td><td>1998</td><td>15424</td><td>  48122.88</td></tr>\n",
              "\t<tr><th scope=row>13</th><td>13</td><td>Johnny Cartman  </td><td>1985</td><td>2004</td><td>10141</td><td>  23729.94</td></tr>\n",
              "\t<tr><th scope=row>14</th><td>14</td><td>Nick Gilson     </td><td>1975</td><td>2001</td><td>20565</td><td>  56142.45</td></tr>\n",
              "\t<tr><th scope=row>15</th><td>15</td><td>Nick Burton     </td><td>1985</td><td>2004</td><td>24236</td><td>  56712.24</td></tr>\n",
              "\t<tr><th scope=row>16</th><td>16</td><td>Thomas Bezos    </td><td>1988</td><td>1148</td><td>15090</td><td>1714525.80</td></tr>\n",
              "</tbody>\n",
              "</table>\n"
            ],
            "text/markdown": "\nA data.frame: 16 × 6\n\n| <!--/--> | Nrow &lt;int&gt; | Name &lt;chr&gt; | BirthYear &lt;int&gt; | EmployYear &lt;int&gt; | Salary &lt;int&gt; | TotalIncomeTax &lt;dbl&gt; |\n|---|---|---|---|---|---|---|\n| 1 |  1 | Thomas Fet       | 1986 | 2005 | 13937 |   30800.77 |\n| 2 |  2 | Boba Burton      | 1971 | 1990 | 13197 |   54899.52 |\n| 3 |  3 | Boba Baldwin     | 1983 | 2001 | 17696 |   48310.08 |\n| 4 |  4 | Vladimir Baldwin | 1988 | 1247 | 10057 | 1013242.75 |\n| 5 |  5 | Boba Erickson    | 1979 | 2006 | 28743 |   59785.44 |\n| 6 |  6 | Oliver Erickson  | 1970 | 1991 | 21645 |   87229.35 |\n| 7 |  7 | Johnny Sarakuzov | 1980 | 2002 | 28476 |   74037.60 |\n| 8 |  8 | Thomas Fet       | 1990 | 2007 | 14154 |   27600.30 |\n| 9 |  9 | Joe Bezos        | 1969 | 1993 | 19047 |   71807.19 |\n| 10 | 10 | Nick Cartman     | 1983 | 2001 | 22009 |   60084.57 |\n| 11 | 11 | Oliver Fet       | 1985 | 2003 | 23218 |   57348.46 |\n| 12 | 12 | Nick Gilson      | 1980 | 1998 | 15424 |   48122.88 |\n| 13 | 13 | Johnny Cartman   | 1985 | 2004 | 10141 |   23729.94 |\n| 14 | 14 | Nick Gilson      | 1975 | 2001 | 20565 |   56142.45 |\n| 15 | 15 | Nick Burton      | 1985 | 2004 | 24236 |   56712.24 |\n| 16 | 16 | Thomas Bezos     | 1988 | 1148 | 15090 | 1714525.80 |\n\n",
            "text/latex": "A data.frame: 16 × 6\n\\begin{tabular}{r|llllll}\n  & Nrow & Name & BirthYear & EmployYear & Salary & TotalIncomeTax\\\\\n  & <int> & <chr> & <int> & <int> & <int> & <dbl>\\\\\n\\hline\n\t1 &  1 & Thomas Fet       & 1986 & 2005 & 13937 &   30800.77\\\\\n\t2 &  2 & Boba Burton      & 1971 & 1990 & 13197 &   54899.52\\\\\n\t3 &  3 & Boba Baldwin     & 1983 & 2001 & 17696 &   48310.08\\\\\n\t4 &  4 & Vladimir Baldwin & 1988 & 1247 & 10057 & 1013242.75\\\\\n\t5 &  5 & Boba Erickson    & 1979 & 2006 & 28743 &   59785.44\\\\\n\t6 &  6 & Oliver Erickson  & 1970 & 1991 & 21645 &   87229.35\\\\\n\t7 &  7 & Johnny Sarakuzov & 1980 & 2002 & 28476 &   74037.60\\\\\n\t8 &  8 & Thomas Fet       & 1990 & 2007 & 14154 &   27600.30\\\\\n\t9 &  9 & Joe Bezos        & 1969 & 1993 & 19047 &   71807.19\\\\\n\t10 & 10 & Nick Cartman     & 1983 & 2001 & 22009 &   60084.57\\\\\n\t11 & 11 & Oliver Fet       & 1985 & 2003 & 23218 &   57348.46\\\\\n\t12 & 12 & Nick Gilson      & 1980 & 1998 & 15424 &   48122.88\\\\\n\t13 & 13 & Johnny Cartman   & 1985 & 2004 & 10141 &   23729.94\\\\\n\t14 & 14 & Nick Gilson      & 1975 & 2001 & 20565 &   56142.45\\\\\n\t15 & 15 & Nick Burton      & 1985 & 2004 & 24236 &   56712.24\\\\\n\t16 & 16 & Thomas Bezos     & 1988 & 1148 & 15090 & 1714525.80\\\\\n\\end{tabular}\n",
            "text/plain": [
              "   Nrow Name             BirthYear EmployYear Salary TotalIncomeTax\n",
              "1   1   Thomas Fet       1986      2005       13937    30800.77    \n",
              "2   2   Boba Burton      1971      1990       13197    54899.52    \n",
              "3   3   Boba Baldwin     1983      2001       17696    48310.08    \n",
              "4   4   Vladimir Baldwin 1988      1247       10057  1013242.75    \n",
              "5   5   Boba Erickson    1979      2006       28743    59785.44    \n",
              "6   6   Oliver Erickson  1970      1991       21645    87229.35    \n",
              "7   7   Johnny Sarakuzov 1980      2002       28476    74037.60    \n",
              "8   8   Thomas Fet       1990      2007       14154    27600.30    \n",
              "9   9   Joe Bezos        1969      1993       19047    71807.19    \n",
              "10 10   Nick Cartman     1983      2001       22009    60084.57    \n",
              "11 11   Oliver Fet       1985      2003       23218    57348.46    \n",
              "12 12   Nick Gilson      1980      1998       15424    48122.88    \n",
              "13 13   Johnny Cartman   1985      2004       10141    23729.94    \n",
              "14 14   Nick Gilson      1975      2001       20565    56142.45    \n",
              "15 15   Nick Burton      1985      2004       24236    56712.24    \n",
              "16 16   Thomas Bezos     1988      1148       15090  1714525.80    "
            ]
          },
          "metadata": {}
        }
      ]
    }
  ]
}